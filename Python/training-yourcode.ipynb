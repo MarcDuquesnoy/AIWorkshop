{
 "cells": [
  {
   "cell_type": "markdown",
   "metadata": {},
   "source": [
    "# AI applied to battery manufacturing\n",
    "\n",
    "----------------------------------------\n",
    "This notebook provides necessary resources for the application of _supervised_ Machine Learning regression approaches for the training session. You will be free to play with the different functions based on the examples found within the **training-example.ipynb** notebook. The idea is to familiarize yourself with the python functions, the training and testing process and the Bayesian Optimization framework for hyperparameters tuning.\n",
    "\n",
    "----------------------------------------\n",
    "\n",
    "Here is the name of the file to load which contains the new manufacturing data: _forcefields-dataset.csv_<br>\n",
    "- the input variables are related to the Force Fields parameters we apply to parametrize a CGMD model: $(X_1, X_2, ..., X_8)$.\n",
    "- the ouput variables are related to the electrode properties being the viscosity and the density: $(Y_1, Y_2, Y_3)$.\n",
    "\n",
    "Another dataset is available: _hybrid-dataset.csv_. This second dataset contains resources on the calculations electrode mesostructures properties associated to manufacturing parameters.</br><br>\n",
    "If you wish to use your own dataset, feel free to discuss with moderators to recieve feedbacks and help."
   ]
  },
  {
   "cell_type": "markdown",
   "metadata": {},
   "source": [
    " "
   ]
  },
  {
   "cell_type": "markdown",
   "metadata": {},
   "source": [
    " "
   ]
  },
  {
   "cell_type": "markdown",
   "metadata": {},
   "source": [
    " "
   ]
  },
  {
   "cell_type": "markdown",
   "metadata": {},
   "source": [
    "## Python libraries\n",
    "\n",
    "All the libraries below are required for you to make use necessary functions, and make trials during the training session. Please refer to the GitHub for Python installations in the case you are not able to load properly the libraries."
   ]
  },
  {
   "cell_type": "code",
   "execution_count": 20,
   "metadata": {},
   "outputs": [],
   "source": [
    "from sklearn.model_selection import train_test_split, GridSearchCV\n",
    "from sklearn.metrics import r2_score, mean_squared_error\n",
    "from sklearn.ensemble import GradientBoostingRegressor\n",
    "from sklearn.multioutput import MultiOutputRegressor\n",
    "from sklearn.linear_model import LinearRegression\n",
    "from skopt.space import Real, Integer\n",
    "from IPython.display import Image\n",
    "import matplotlib.pyplot as plt\n",
    "import ipywidgets as widgets\n",
    "from skopt import Optimizer\n",
    "import pandas as pd\n",
    "import numpy as np\n",
    "import warnings\n",
    "import random\n",
    "import time\n",
    "\n",
    "warnings.filterwarnings(\"ignore\")"
   ]
  },
  {
   "cell_type": "markdown",
   "metadata": {},
   "source": [
    " "
   ]
  },
  {
   "cell_type": "markdown",
   "metadata": {},
   "source": [
    " "
   ]
  },
  {
   "cell_type": "markdown",
   "metadata": {},
   "source": [
    " "
   ]
  },
  {
   "cell_type": "markdown",
   "metadata": {},
   "source": [
    "We set the dataset into the variable $X$. This variables contains the new input variables and output variables."
   ]
  },
  {
   "cell_type": "code",
   "execution_count": 47,
   "metadata": {},
   "outputs": [
    {
     "data": {
      "text/html": [
       "<div>\n",
       "<style scoped>\n",
       "    .dataframe tbody tr th:only-of-type {\n",
       "        vertical-align: middle;\n",
       "    }\n",
       "\n",
       "    .dataframe tbody tr th {\n",
       "        vertical-align: top;\n",
       "    }\n",
       "\n",
       "    .dataframe thead th {\n",
       "        text-align: right;\n",
       "    }\n",
       "</style>\n",
       "<table border=\"1\" class=\"dataframe\">\n",
       "  <thead>\n",
       "    <tr style=\"text-align: right;\">\n",
       "      <th></th>\n",
       "      <th>X1</th>\n",
       "      <th>X2</th>\n",
       "      <th>X3</th>\n",
       "      <th>X4</th>\n",
       "      <th>X5</th>\n",
       "      <th>X6</th>\n",
       "      <th>X7</th>\n",
       "      <th>X8</th>\n",
       "      <th>Y1</th>\n",
       "      <th>Y2</th>\n",
       "      <th>Y3</th>\n",
       "    </tr>\n",
       "  </thead>\n",
       "  <tbody>\n",
       "    <tr>\n",
       "      <th>0</th>\n",
       "      <td>0.10294</td>\n",
       "      <td>1.00</td>\n",
       "      <td>0.011552</td>\n",
       "      <td>6.2</td>\n",
       "      <td>0.005</td>\n",
       "      <td>3.5</td>\n",
       "      <td>10.9426</td>\n",
       "      <td>0.001962</td>\n",
       "      <td>3.14482</td>\n",
       "      <td>21.3215</td>\n",
       "      <td>4.03030</td>\n",
       "    </tr>\n",
       "    <tr>\n",
       "      <th>1</th>\n",
       "      <td>0.00100</td>\n",
       "      <td>0.94</td>\n",
       "      <td>0.000100</td>\n",
       "      <td>6.2</td>\n",
       "      <td>0.005</td>\n",
       "      <td>3.5</td>\n",
       "      <td>11.7288</td>\n",
       "      <td>0.002848</td>\n",
       "      <td>3.28428</td>\n",
       "      <td>13.8008</td>\n",
       "      <td>1.94162</td>\n",
       "    </tr>\n",
       "    <tr>\n",
       "      <th>2</th>\n",
       "      <td>0.00100</td>\n",
       "      <td>0.82</td>\n",
       "      <td>0.000100</td>\n",
       "      <td>6.2</td>\n",
       "      <td>0.005</td>\n",
       "      <td>3.5</td>\n",
       "      <td>12.4240</td>\n",
       "      <td>0.005762</td>\n",
       "      <td>3.28808</td>\n",
       "      <td>12.0263</td>\n",
       "      <td>1.30092</td>\n",
       "    </tr>\n",
       "    <tr>\n",
       "      <th>3</th>\n",
       "      <td>0.00100</td>\n",
       "      <td>0.70</td>\n",
       "      <td>0.000100</td>\n",
       "      <td>6.2</td>\n",
       "      <td>0.005</td>\n",
       "      <td>3.5</td>\n",
       "      <td>10.2735</td>\n",
       "      <td>0.001374</td>\n",
       "      <td>3.28866</td>\n",
       "      <td>11.1520</td>\n",
       "      <td>1.39649</td>\n",
       "    </tr>\n",
       "    <tr>\n",
       "      <th>4</th>\n",
       "      <td>0.00100</td>\n",
       "      <td>0.82</td>\n",
       "      <td>0.000100</td>\n",
       "      <td>6.2</td>\n",
       "      <td>0.005</td>\n",
       "      <td>3.5</td>\n",
       "      <td>15.0000</td>\n",
       "      <td>0.006223</td>\n",
       "      <td>3.28805</td>\n",
       "      <td>10.0798</td>\n",
       "      <td>1.14284</td>\n",
       "    </tr>\n",
       "  </tbody>\n",
       "</table>\n",
       "</div>"
      ],
      "text/plain": [
       "        X1    X2        X3   X4     X5   X6       X7        X8       Y1  \\\n",
       "0  0.10294  1.00  0.011552  6.2  0.005  3.5  10.9426  0.001962  3.14482   \n",
       "1  0.00100  0.94  0.000100  6.2  0.005  3.5  11.7288  0.002848  3.28428   \n",
       "2  0.00100  0.82  0.000100  6.2  0.005  3.5  12.4240  0.005762  3.28808   \n",
       "3  0.00100  0.70  0.000100  6.2  0.005  3.5  10.2735  0.001374  3.28866   \n",
       "4  0.00100  0.82  0.000100  6.2  0.005  3.5  15.0000  0.006223  3.28805   \n",
       "\n",
       "        Y2       Y3  \n",
       "0  21.3215  4.03030  \n",
       "1  13.8008  1.94162  \n",
       "2  12.0263  1.30092  \n",
       "3  11.1520  1.39649  \n",
       "4  10.0798  1.14284  "
      ]
     },
     "execution_count": 47,
     "metadata": {},
     "output_type": "execute_result"
    }
   ],
   "source": [
    "X = pd.read_csv(\"../resources/forcefields-dataset.csv\", sep=\",\")\n",
    "X.head()"
   ]
  },
  {
   "cell_type": "markdown",
   "metadata": {},
   "source": [
    "Inside the dataset, there more variables related to the parametrization of manufacturing models:\n",
    "- 8 inputs variables.\n",
    "- 3 output variables."
   ]
  },
  {
   "cell_type": "code",
   "execution_count": 48,
   "metadata": {},
   "outputs": [
    {
     "data": {
      "text/plain": [
       "['Y1', 'Y2', 'Y3']"
      ]
     },
     "execution_count": 48,
     "metadata": {},
     "output_type": "execute_result"
    }
   ],
   "source": [
    "X.columns.tolist()[-3:]"
   ]
  },
  {
   "cell_type": "markdown",
   "metadata": {},
   "source": [
    " "
   ]
  },
  {
   "cell_type": "markdown",
   "metadata": {},
   "source": [
    " "
   ]
  },
  {
   "cell_type": "markdown",
   "metadata": {},
   "source": [
    "  "
   ]
  },
  {
   "cell_type": "code",
   "execution_count": 1,
   "metadata": {},
   "outputs": [],
   "source": [
    "for col in X.columns[:-3]:  \n",
    "    \n",
    "    fig=plt.figure(figsize=(8,5))\n",
    "    ax = plt.gca()\n",
    "    ax.set_facecolor('whitesmoke')\n",
    "    plt.hist(X[col], color=\"mediumblue\", density=False, bins=70, alpha=0.7)\n",
    "    plt.ylabel(\"Counts\", fontsize=20)\n",
    "    plt.xlabel(col, fontweight=\"bold\", fontsize=13)\n",
    "    plt.yticks(fontweight=\"bold\", fontsize=13)\n",
    "    plt.xticks(fontsize=13, fontweight=\"bold\")\n",
    "    plt.show()"
   ]
  },
  {
   "cell_type": "markdown",
   "metadata": {},
   "source": [
    " "
   ]
  },
  {
   "cell_type": "markdown",
   "metadata": {},
   "source": [
    " "
   ]
  },
  {
   "cell_type": "markdown",
   "metadata": {},
   "source": [
    " "
   ]
  },
  {
   "cell_type": "markdown",
   "metadata": {},
   "source": [
    "## Example n°1: train the regression model\n",
    "\n",
    "You are welcome to train your own regression model with the new available dataset. There are different possiblities:\n",
    "- apply the GBR model to train 1 output, or 3 outputs (find the right way to use it).\n",
    "- apply another regression model based on the sugestions.\n",
    "<br><br>\n",
    "\n",
    "For each fitting:\n",
    "- display the size of the different training/testing dataset for inputs/outputs.\n",
    "- display the different validation metrics you used.\n",
    "- write a code to draw a figure showing the good capabilities of the model."
   ]
  },
  {
   "cell_type": "markdown",
   "metadata": {},
   "source": [
    "##### use the Gradient Boosting Regressor with 1(3) output(s)"
   ]
  },
  {
   "cell_type": "markdown",
   "metadata": {},
   "source": [
    "try to fit only 1 output."
   ]
  },
  {
   "cell_type": "code",
   "execution_count": 32,
   "metadata": {},
   "outputs": [],
   "source": [
    "### your code\n",
    "\n",
    "###"
   ]
  },
  {
   "cell_type": "code",
   "execution_count": null,
   "metadata": {},
   "outputs": [],
   "source": [
    "fig=plt.figure(figsize=(8,5))\n",
    "ax = plt.gca()\n",
    "ax.set_facecolor('whitesmoke')\n",
    "\n",
    "### your code for the plot\n",
    "\n",
    "###"
   ]
  },
  {
   "cell_type": "markdown",
   "metadata": {},
   "source": [
    " "
   ]
  },
  {
   "cell_type": "markdown",
   "metadata": {},
   "source": [
    "plot the evolution of the validation metrics as a function of the training size."
   ]
  },
  {
   "cell_type": "code",
   "execution_count": null,
   "metadata": {},
   "outputs": [],
   "source": [
    "### your code for the plot\n",
    "\n",
    "###"
   ]
  },
  {
   "cell_type": "markdown",
   "metadata": {},
   "source": [
    "here is the function to train for more than 2 outputs: _MultiOutputRegressor()_"
   ]
  },
  {
   "cell_type": "code",
   "execution_count": null,
   "metadata": {},
   "outputs": [],
   "source": [
    "parameters = {'estimator__learning_rate': [0.01,0.02,0.03,0.04],\n",
    "              'estimator__subsample'    : [0.9, 0.5, 0.2, 0.1],\n",
    "              'estimator__n_estimators' : [100,500,1000, 1500],\n",
    "              'estimator__max_depth'    : [4,6,8,10]\n",
    "             }"
   ]
  },
  {
   "cell_type": "code",
   "execution_count": 33,
   "metadata": {},
   "outputs": [],
   "source": [
    "### your code\n",
    "\n",
    "###"
   ]
  },
  {
   "cell_type": "code",
   "execution_count": null,
   "metadata": {},
   "outputs": [],
   "source": [
    "fig=plt.figure(figsize=(8,5))\n",
    "ax = plt.gca()\n",
    "ax.set_facecolor('whitesmoke')\n",
    "\n",
    "### your code for the plot\n",
    "\n",
    "###"
   ]
  },
  {
   "cell_type": "markdown",
   "metadata": {},
   "source": [
    " "
   ]
  },
  {
   "cell_type": "markdown",
   "metadata": {},
   "source": [
    " "
   ]
  },
  {
   "cell_type": "markdown",
   "metadata": {},
   "source": [
    "##### use another regression model"
   ]
  },
  {
   "cell_type": "markdown",
   "metadata": {},
   "source": [
    "Select another type of regression model in order to fit the outputs as a function of inputs variables. Here find a short example of possibilities: AdaBoostRegressor / KNeighborsRegressor / ..."
   ]
  },
  {
   "cell_type": "code",
   "execution_count": 35,
   "metadata": {},
   "outputs": [],
   "source": [
    "### your code\n",
    "\n",
    "###"
   ]
  },
  {
   "cell_type": "code",
   "execution_count": null,
   "metadata": {},
   "outputs": [],
   "source": [
    "fig=plt.figure(figsize=(8,5))\n",
    "ax = plt.gca()\n",
    "ax.set_facecolor('whitesmoke')\n",
    "\n",
    "### your code for the plot\n",
    "\n",
    "###"
   ]
  },
  {
   "cell_type": "markdown",
   "metadata": {},
   "source": [
    " "
   ]
  },
  {
   "cell_type": "markdown",
   "metadata": {},
   "source": [
    " "
   ]
  },
  {
   "cell_type": "markdown",
   "metadata": {},
   "source": [
    " "
   ]
  },
  {
   "cell_type": "markdown",
   "metadata": {},
   "source": [
    "## Example n°2: train the regression model with hyperparameters tuning with Bayesian Optimization\n",
    "\n",
    "You are welcome to train your own regression model with the new available dataset, using the Bayesian Optimization framework within Python. Instead of 1 output fitted within the previous notebook, please apply the methodology for the 3 availbale outputs.\n",
    "<br><br>\n",
    "For the final best model:\n",
    "- display the size of the different training/testing dataset for inputs/outputs.\n",
    "- display the different validation metrics you used.\n",
    "- write a code to draw a figure showing the good capabilities of the model."
   ]
  },
  {
   "cell_type": "code",
   "execution_count": null,
   "metadata": {},
   "outputs": [],
   "source": [
    "### your code\n",
    "# variable \"best_estimator\" must contain the optimal trained GBR \n",
    "\n",
    "###"
   ]
  },
  {
   "cell_type": "markdown",
   "metadata": {},
   "source": [
    " "
   ]
  },
  {
   "cell_type": "markdown",
   "metadata": {},
   "source": [
    " "
   ]
  },
  {
   "cell_type": "markdown",
   "metadata": {},
   "source": [
    " "
   ]
  },
  {
   "cell_type": "markdown",
   "metadata": {},
   "source": [
    "## Example n°3: train the regression model based on the previous factorial analysis\n",
    "\n",
    "You are free to modify the number of inputs variables to apply a new training/testing process, an choose another regression model. The idea is to show that it is possible to obtain high predictive capabilities by selecting a fewer amount of input variables."
   ]
  },
  {
   "cell_type": "code",
   "execution_count": 46,
   "metadata": {},
   "outputs": [],
   "source": [
    "### your code\n",
    "\n",
    "###"
   ]
  },
  {
   "cell_type": "markdown",
   "metadata": {},
   "source": [
    " "
   ]
  },
  {
   "cell_type": "markdown",
   "metadata": {},
   "source": [
    " "
   ]
  },
  {
   "cell_type": "markdown",
   "metadata": {},
   "source": [
    " "
   ]
  },
  {
   "cell_type": "markdown",
   "metadata": {},
   "source": [
    "## Example n°4: train the regression model based on features importance\n",
    "\n",
    "This example will make a comparison between the selection based on your previous factorial analysis, and the features selection based on features importance. The latter is a tool to check the importance of a input variable on the building of trees withn the GBR model. <br>\n",
    "The functions are provided below, and the comparisons will be done after exchanges between students."
   ]
  },
  {
   "cell_type": "code",
   "execution_count": null,
   "metadata": {},
   "outputs": [],
   "source": [
    "### your code\n",
    "# variable \"yourmodel\" contains the fitted regression model you have selected above.\n",
    "\n",
    "###"
   ]
  },
  {
   "cell_type": "code",
   "execution_count": 51,
   "metadata": {},
   "outputs": [],
   "source": [
    "plt.figure(figsize=(12, 7))\n",
    "ax = plt.gca()\n",
    "ax.set_facecolor('whitesmoke')\n",
    "plt.bar([0,1,2,3,4,5,6,7], mod.feature_importances_,\n",
    "        0.5, label='FI', color='red')\n",
    "plt.xticks(range(8), labels=XTrain.columns, fontsize=11, fontweight=\"bold\")\n",
    "plt.yticks(fontsize=11, fontweight=\"bold\")\n",
    "plt.xlabel(\"Input variables\", fontsize=15, fontweight=\"bold\", labelpad=15)\n",
    "_=plt.ylabel(\"Features importance\", fontsize=15, fontweight=\"bold\", labelpad=15)"
   ]
  }
 ],
 "metadata": {
  "kernelspec": {
   "display_name": "Python 3",
   "language": "python",
   "name": "python3"
  },
  "language_info": {
   "codemirror_mode": {
    "name": "ipython",
    "version": 3
   },
   "file_extension": ".py",
   "mimetype": "text/x-python",
   "name": "python",
   "nbconvert_exporter": "python",
   "pygments_lexer": "ipython3",
   "version": "3.8.5"
  }
 },
 "nbformat": 4,
 "nbformat_minor": 4
}
